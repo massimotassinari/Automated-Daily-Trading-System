{
 "cells": [
  {
   "cell_type": "markdown",
   "metadata": {},
   "source": [
    "# Imports"
   ]
  },
  {
   "cell_type": "code",
   "execution_count": 19,
   "metadata": {},
   "outputs": [],
   "source": [
    "# import a library\n",
    "import pandas\n",
    "\n",
    "# import a library with an alias\n",
    "import pandas as pd\n",
    "\n",
    "# import a module from a package\n",
    "from matplotlib import pyplot as plt\n",
    "\n",
    "# Visualize missing values (optional)\n",
    "import matplotlib.pyplot as plt\n",
    "import seaborn as sns"
   ]
  },
  {
   "cell_type": "code",
   "execution_count": 14,
   "metadata": {},
   "outputs": [],
   "source": [
    "# Read the CSV file\n",
    "df = pd.read_csv(\"data/us-shareprices-daily.csv\", delimiter=\";\")  # Replace with your actual file path\n",
    "\n"
   ]
  },
  {
   "cell_type": "code",
   "execution_count": 15,
   "metadata": {},
   "outputs": [],
   "source": [
    "# Example transformations:\n",
    "df.columns = [col.strip().lower().replace(\" \", \"_\") for col in df.columns]  # Normalize column names"
   ]
  },
  {
   "cell_type": "code",
   "execution_count": 16,
   "metadata": {},
   "outputs": [],
   "source": [
    "df['date'] = pd.to_datetime(df['date'])  # Convert date columns"
   ]
  },
  {
   "cell_type": "code",
   "execution_count": 17,
   "metadata": {},
   "outputs": [
    {
     "name": "stdout",
     "output_type": "stream",
     "text": [
      "<class 'pandas.core.frame.DataFrame'>\n",
      "RangeIndex: 5766996 entries, 0 to 5766995\n",
      "Data columns (total 11 columns):\n",
      " #   Column              Dtype         \n",
      "---  ------              -----         \n",
      " 0   ticker              object        \n",
      " 1   simfinid            int64         \n",
      " 2   date                datetime64[ns]\n",
      " 3   open                float64       \n",
      " 4   high                float64       \n",
      " 5   low                 float64       \n",
      " 6   close               float64       \n",
      " 7   adj._close          float64       \n",
      " 8   volume              int64         \n",
      " 9   dividend            float64       \n",
      " 10  shares_outstanding  float64       \n",
      "dtypes: datetime64[ns](1), float64(7), int64(2), object(1)\n",
      "memory usage: 484.0+ MB\n"
     ]
    }
   ],
   "source": [
    "df.info()"
   ]
  },
  {
   "cell_type": "code",
   "execution_count": 11,
   "metadata": {},
   "outputs": [
    {
     "data": {
      "text/html": [
       "<div>\n",
       "<style scoped>\n",
       "    .dataframe tbody tr th:only-of-type {\n",
       "        vertical-align: middle;\n",
       "    }\n",
       "\n",
       "    .dataframe tbody tr th {\n",
       "        vertical-align: top;\n",
       "    }\n",
       "\n",
       "    .dataframe thead th {\n",
       "        text-align: right;\n",
       "    }\n",
       "</style>\n",
       "<table border=\"1\" class=\"dataframe\">\n",
       "  <thead>\n",
       "    <tr style=\"text-align: right;\">\n",
       "      <th></th>\n",
       "      <th>ticker</th>\n",
       "      <th>simfinid</th>\n",
       "      <th>date</th>\n",
       "      <th>open</th>\n",
       "      <th>high</th>\n",
       "      <th>low</th>\n",
       "      <th>close</th>\n",
       "      <th>adj._close</th>\n",
       "      <th>volume</th>\n",
       "      <th>dividend</th>\n",
       "      <th>shares_outstanding</th>\n",
       "    </tr>\n",
       "  </thead>\n",
       "  <tbody>\n",
       "    <tr>\n",
       "      <th>0</th>\n",
       "      <td>A</td>\n",
       "      <td>45846</td>\n",
       "      <td>2019-03-27</td>\n",
       "      <td>80.50</td>\n",
       "      <td>80.77</td>\n",
       "      <td>78.89</td>\n",
       "      <td>79.00</td>\n",
       "      <td>75.72</td>\n",
       "      <td>1446133</td>\n",
       "      <td>NaN</td>\n",
       "      <td>317515869.0</td>\n",
       "    </tr>\n",
       "    <tr>\n",
       "      <th>1</th>\n",
       "      <td>A</td>\n",
       "      <td>45846</td>\n",
       "      <td>2019-03-28</td>\n",
       "      <td>79.39</td>\n",
       "      <td>79.79</td>\n",
       "      <td>78.71</td>\n",
       "      <td>79.70</td>\n",
       "      <td>76.39</td>\n",
       "      <td>1615615</td>\n",
       "      <td>NaN</td>\n",
       "      <td>317515869.0</td>\n",
       "    </tr>\n",
       "    <tr>\n",
       "      <th>2</th>\n",
       "      <td>A</td>\n",
       "      <td>45846</td>\n",
       "      <td>2019-03-29</td>\n",
       "      <td>80.16</td>\n",
       "      <td>80.67</td>\n",
       "      <td>79.95</td>\n",
       "      <td>80.38</td>\n",
       "      <td>77.04</td>\n",
       "      <td>1585137</td>\n",
       "      <td>NaN</td>\n",
       "      <td>317515869.0</td>\n",
       "    </tr>\n",
       "    <tr>\n",
       "      <th>3</th>\n",
       "      <td>A</td>\n",
       "      <td>45846</td>\n",
       "      <td>2019-04-01</td>\n",
       "      <td>80.96</td>\n",
       "      <td>81.77</td>\n",
       "      <td>80.96</td>\n",
       "      <td>81.56</td>\n",
       "      <td>78.33</td>\n",
       "      <td>1522681</td>\n",
       "      <td>0.16</td>\n",
       "      <td>317515869.0</td>\n",
       "    </tr>\n",
       "    <tr>\n",
       "      <th>4</th>\n",
       "      <td>A</td>\n",
       "      <td>45846</td>\n",
       "      <td>2019-04-02</td>\n",
       "      <td>81.71</td>\n",
       "      <td>81.76</td>\n",
       "      <td>81.03</td>\n",
       "      <td>81.14</td>\n",
       "      <td>77.93</td>\n",
       "      <td>1203037</td>\n",
       "      <td>NaN</td>\n",
       "      <td>317515869.0</td>\n",
       "    </tr>\n",
       "  </tbody>\n",
       "</table>\n",
       "</div>"
      ],
      "text/plain": [
       "  ticker  simfinid        date   open   high    low  close  adj._close  \\\n",
       "0      A     45846  2019-03-27  80.50  80.77  78.89  79.00       75.72   \n",
       "1      A     45846  2019-03-28  79.39  79.79  78.71  79.70       76.39   \n",
       "2      A     45846  2019-03-29  80.16  80.67  79.95  80.38       77.04   \n",
       "3      A     45846  2019-04-01  80.96  81.77  80.96  81.56       78.33   \n",
       "4      A     45846  2019-04-02  81.71  81.76  81.03  81.14       77.93   \n",
       "\n",
       "    volume  dividend  shares_outstanding  \n",
       "0  1446133       NaN         317515869.0  \n",
       "1  1615615       NaN         317515869.0  \n",
       "2  1585137       NaN         317515869.0  \n",
       "3  1522681      0.16         317515869.0  \n",
       "4  1203037       NaN         317515869.0  "
      ]
     },
     "execution_count": 11,
     "metadata": {},
     "output_type": "execute_result"
    }
   ],
   "source": [
    "# Display first few rows\n",
    "df.head()"
   ]
  },
  {
   "cell_type": "markdown",
   "metadata": {},
   "source": [
    "Checking for nulls"
   ]
  },
  {
   "cell_type": "code",
   "execution_count": 20,
   "metadata": {},
   "outputs": [
    {
     "name": "stdout",
     "output_type": "stream",
     "text": [
      "ticker                      0\n",
      "simfinid                    0\n",
      "date                        0\n",
      "open                        0\n",
      "high                        0\n",
      "low                         0\n",
      "close                       0\n",
      "adj._close                  0\n",
      "volume                      0\n",
      "dividend              5732034\n",
      "shares_outstanding     516269\n",
      "dtype: int64\n"
     ]
    },
    {
     "data": {
      "image/png": "[encoded data removed]",
      "text/plain": [
       "<Figure size 1000x500 with 1 Axes>"
      ]
     },
     "metadata": {},
     "output_type": "display_data"
    }
   ],
   "source": [
    "# Check for missing values\n",
    "print(df.isnull().sum())  # Count of nulls per column\n",
    "\n",
    "# Visualize missing values (optional)\n",
    "import matplotlib.pyplot as plt\n",
    "import seaborn as sns\n",
    "\n",
    "plt.figure(figsize=(10,5))\n",
    "sns.heatmap(df.isnull(), cmap=\"viridis\", cbar=False, yticklabels=False)\n",
    "plt.title(\"Missing Values Heatmap\")\n",
    "plt.show()\n"
   ]
  },
  {
   "cell_type": "code",
   "execution_count": 24,
   "metadata": {},
   "outputs": [
    {
     "name": "stdout",
     "output_type": "stream",
     "text": [
      "ticker                 0.000000\n",
      "simfinid               0.000000\n",
      "date                   0.000000\n",
      "open                   0.000000\n",
      "high                   0.000000\n",
      "low                    0.000000\n",
      "close                  0.000000\n",
      "adj._close             0.000000\n",
      "volume                 0.000000\n",
      "dividend              99.393757\n",
      "shares_outstanding     8.952130\n",
      "dtype: float64\n"
     ]
    }
   ],
   "source": [
    "# Calculate percentage of missing values per column\n",
    "null_percentage = (df.isnull().sum() / len(df)) * 100\n",
    "\n",
    "# Display the result\n",
    "print(null_percentage)\n"
   ]
  },
  {
   "cell_type": "code",
   "execution_count": 25,
   "metadata": {},
   "outputs": [
    {
     "data": {
      "image/png": "[encoded data removed]",
      "text/plain": [
       "<Figure size 1000x500 with 1 Axes>"
      ]
     },
     "metadata": {},
     "output_type": "display_data"
    }
   ],
   "source": [
    "import matplotlib.pyplot as plt\n",
    "\n",
    "# Plot missing values percentage\n",
    "null_percentage[null_percentage > 0].plot(kind=\"bar\", figsize=(10,5))\n",
    "plt.ylabel(\"Percentage of Missing Values (%)\")\n",
    "plt.title(\"Missing Values Percentage by Column\")\n",
    "plt.show()\n"
   ]
  },
  {
   "cell_type": "markdown",
   "metadata": {},
   "source": [
    "Lets Drop divident its 99% nulls"
   ]
  },
  {
   "cell_type": "code",
   "execution_count": 26,
   "metadata": {},
   "outputs": [],
   "source": [
    "df.drop(columns=[\"dividend\"], inplace=True)\n"
   ]
  },
  {
   "cell_type": "markdown",
   "metadata": {},
   "source": [
    "outliers\n"
   ]
  },
  {
   "cell_type": "code",
   "execution_count": 32,
   "metadata": {},
   "outputs": [
    {
     "name": "stdout",
     "output_type": "stream",
     "text": [
      "simfinid                   0\n",
      "open                  589131\n",
      "high                  589004\n",
      "low                   588694\n",
      "close                 589021\n",
      "adj._close            601215\n",
      "volume                695821\n",
      "shares_outstanding    610059\n",
      "dtype: int64\n"
     ]
    }
   ],
   "source": [
    "import pandas as pd\n",
    "\n",
    "# Select numeric columns\n",
    "numeric_df = df.select_dtypes(include=['number'])\n",
    "\n",
    "# Calculate Q1, Q3, and IQR\n",
    "Q1 = numeric_df.quantile(0.25)\n",
    "Q3 = numeric_df.quantile(0.75)\n",
    "IQR = Q3 - Q1\n",
    "\n",
    "# Find outliers\n",
    "outliers = ((numeric_df < (Q1 - 1.5 * IQR)) | (numeric_df > (Q3 + 1.5 * IQR)))\n",
    "print(outliers.sum())  # Number of outliers per column\n"
   ]
  },
  {
   "cell_type": "code",
   "execution_count": 43,
   "metadata": {},
   "outputs": [
    {
     "ename": "ModuleNotFoundError",
     "evalue": "No module named 'simfin'",
     "output_type": "error",
     "traceback": [
      "\u001b[0;31m---------------------------------------------------------------------------\u001b[0m",
      "\u001b[0;31mModuleNotFoundError\u001b[0m                       Traceback (most recent call last)",
      "Cell \u001b[0;32mIn[43], line 3\u001b[0m\n\u001b[1;32m      1\u001b[0m \u001b[38;5;66;03m# Installation: pip install simfin\u001b[39;00m\n\u001b[1;32m      2\u001b[0m \u001b[38;5;66;03m# import simfin package\u001b[39;00m\n\u001b[0;32m----> 3\u001b[0m \u001b[38;5;28;01mimport\u001b[39;00m\u001b[38;5;250m \u001b[39m\u001b[38;5;21;01msimfin\u001b[39;00m\u001b[38;5;250m \u001b[39m\u001b[38;5;28;01mas\u001b[39;00m\u001b[38;5;250m \u001b[39m\u001b[38;5;21;01msf\u001b[39;00m\n\u001b[1;32m      5\u001b[0m \u001b[38;5;66;03m# Set your API-key for downloading data.\u001b[39;00m\n\u001b[1;32m      6\u001b[0m sf\u001b[38;5;241m.\u001b[39mset_api_key(\u001b[38;5;124m'\u001b[39m\u001b[38;5;124m344dd533-861f-4bef-9f52-be02f0276014\u001b[39m\u001b[38;5;124m'\u001b[39m)\n",
      "\u001b[0;31mModuleNotFoundError\u001b[0m: No module named 'simfin'"
     ]
    }
   ],
   "source": [
    "# Installation: pip install simfin\n",
    "# import simfin package\n",
    "import simfin as sf\n",
    "\n",
    "# Set your API-key for downloading data.\n",
    "sf.set_api_key('344dd533-861f-4bef-9f52-be02f0276014')\n",
    "\n",
    "# Set the local directory where data-files are stored.\n",
    "# The directory will be created if it does not already exist.\n",
    "sf.set_data_dir('~/simfin_data/')\n",
    "\n",
    "# Download the data from the SimFin server and load into a Pandas DataFrame.\n",
    "df = sf.load_shareprices(variant='daily')\n",
    "\n",
    "# Print the first rows of the data.\n",
    "print(df.head())"
   ]
  }
 ],
 "metadata": {
  "kernelspec": {
   "display_name": "massi_env",
   "language": "python",
   "name": "python3"
  },
  "language_info": {
   "codemirror_mode": {
    "name": "ipython",
    "version": 3
   },
   "file_extension": ".py",
   "mimetype": "text/x-python",
   "name": "python",
   "nbconvert_exporter": "python",
   "pygments_lexer": "ipython3",
   "version": "3.13.1"
  }
 },
 "nbformat": 4,
 "nbformat_minor": 2
}
